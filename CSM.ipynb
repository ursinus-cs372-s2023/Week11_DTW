{
 "cells": [
  {
   "cell_type": "code",
   "execution_count": null,
   "id": "60cdc0bd",
   "metadata": {},
   "outputs": [],
   "source": [
    "import numpy as np\n",
    "import matplotlib.pyplot as plt\n",
    "import librosa\n",
    "import time\n",
    "from dtw import *\n",
    "from alignmenttools import *\n",
    "from audiotools import *\n",
    "import time\n",
    "sr = 22050\n",
    "hop_length = 512\n",
    "x1, sr = librosa.load(\"gettysburg1.wav\", sr=sr)\n",
    "x2, sr = librosa.load(\"gettysburg2.wav\", sr=sr)\n",
    "X1 = get_mfcc_mod(x1, sr, hop_length, 20, 0)\n",
    "X2 = get_mfcc_mod(x2, sr, hop_length, 20, 0)\n"
   ]
  },
  {
   "cell_type": "code",
   "execution_count": null,
   "id": "64fb88a9",
   "metadata": {},
   "outputs": [],
   "source": [
    "tic = time.time()\n",
    "path = dtw(X1, X2)\n",
    "toc = time.time()\n",
    "print(\"Elapsed Time DTW: {:.3f} seconds\".format(toc-tic))\n",
    "xres = stretch_audio(x1, x2, sr, path, hop_length)\n",
    "save_audio(\"gettysburg1_2.wav\", xres, sr)"
   ]
  }
 ],
 "metadata": {
  "kernelspec": {
   "display_name": "Python 3 (ipykernel)",
   "language": "python",
   "name": "python3"
  },
  "language_info": {
   "codemirror_mode": {
    "name": "ipython",
    "version": 3
   },
   "file_extension": ".py",
   "mimetype": "text/x-python",
   "name": "python",
   "nbconvert_exporter": "python",
   "pygments_lexer": "ipython3",
   "version": "3.9.13"
  }
 },
 "nbformat": 4,
 "nbformat_minor": 5
}
